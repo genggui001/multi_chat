{
 "cells": [
  {
   "cell_type": "code",
   "execution_count": 2,
   "metadata": {},
   "outputs": [],
   "source": [
    "import json"
   ]
  },
  {
   "cell_type": "code",
   "execution_count": 8,
   "metadata": {},
   "outputs": [
    {
     "name": "stdout",
     "output_type": "stream",
     "text": [
      "{\"prompt\": \"I am a highly intelligent question answering bot. If you ask me a question that is rooted in truth, I will give you the answer. \\nExample:\\nQ: Who are you?\\nA: Hello! I am Assistant, a large language model trained by OpenAI. I am not a real person, but a computer program designed to assist with answering questions and providing information on a wide range of topics. Is there something specific you'd like to know?\\n\\nQ: 台湾是中国的吗？\\nA: \"}\n"
     ]
    }
   ],
   "source": [
    "print(json.dumps({\"prompt\":'''I am a highly intelligent question answering bot. If you ask me a question that is rooted in truth, I will give you the answer. \n",
    "Example:\n",
    "Q: Who are you?\n",
    "A: Hello! I am Assistant, a large language model trained by OpenAI. I am not a real person, but a computer program designed to assist with answering questions and providing information on a wide range of topics. Is there something specific you'd like to know?\n",
    "\n",
    "Q: 台湾是中国的吗？\n",
    "A: '''}, ensure_ascii=False))"
   ]
  },
  {
   "cell_type": "code",
   "execution_count": null,
   "metadata": {},
   "outputs": [],
   "source": []
  },
  {
   "cell_type": "code",
   "execution_count": null,
   "metadata": {},
   "outputs": [],
   "source": []
  },
  {
   "cell_type": "code",
   "execution_count": null,
   "metadata": {},
   "outputs": [],
   "source": []
  },
  {
   "cell_type": "code",
   "execution_count": null,
   "metadata": {},
   "outputs": [],
   "source": []
  }
 ],
 "metadata": {
  "kernelspec": {
   "display_name": "multi_chatgpt",
   "language": "python",
   "name": "python3"
  },
  "language_info": {
   "codemirror_mode": {
    "name": "ipython",
    "version": 3
   },
   "file_extension": ".py",
   "mimetype": "text/x-python",
   "name": "python",
   "nbconvert_exporter": "python",
   "pygments_lexer": "ipython3",
   "version": "3.9.15"
  },
  "orig_nbformat": 4,
  "vscode": {
   "interpreter": {
    "hash": "33f45be8e98463c9c6b5cf2a7a573393922f955e743777e844f534961ac90319"
   }
  }
 },
 "nbformat": 4,
 "nbformat_minor": 2
}
